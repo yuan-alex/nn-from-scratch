{
 "cells": [
  {
   "attachments": {},
   "cell_type": "markdown",
   "id": "6031fde7",
   "metadata": {},
   "source": [
    "# Neural Networks From Scratch"
   ]
  },
  {
   "cell_type": "code",
   "execution_count": 1,
   "id": "47af10e6",
   "metadata": {},
   "outputs": [
    {
     "name": "stderr",
     "output_type": "stream",
     "text": [
      "c:\\Users\\ayale\\miniconda3\\envs\\pytorch_cuda\\lib\\site-packages\\tqdm\\auto.py:21: TqdmWarning: IProgress not found. Please update jupyter and ipywidgets. See https://ipywidgets.readthedocs.io/en/stable/user_install.html\n",
      "  from .autonotebook import tqdm as notebook_tqdm\n"
     ]
    }
   ],
   "source": [
    "import numpy as np\n",
    "from datasets import load_dataset\n",
    "from sentence_transformers import SentenceTransformer"
   ]
  },
  {
   "cell_type": "code",
   "execution_count": 104,
   "id": "6e11a98c",
   "metadata": {},
   "outputs": [],
   "source": [
    "def sigmoid(x):\n",
    "    return 1 / (1 + np.exp(-x))\n",
    "\n",
    "\n",
    "def sigmoid_derivative(x):\n",
    "    return sigmoid(x) * (1 - sigmoid(x))\n",
    "\n",
    "\n",
    "def forward_propagation(X, weights, biases, layers):\n",
    "    a = [X]\n",
    "    z = []\n",
    "    for i in range(len(layers)):\n",
    "        z = np.dot(a[-1], weights[i]) + biases[i]\n",
    "        a.append(sigmoid(z))\n",
    "    return a, z\n",
    "\n",
    "def backpropagation(X, y, layers, learning_rate, num_iterations):\n",
    "    \"\"\"\n",
    "    Train a neural network with backpropagation algorithm.\n",
    "\n",
    "    Parameters:\n",
    "        X (numpy array): Input data, shape (num_samples, input_size)\n",
    "        y (numpy array): Target data, shape (num_samples, output_size)\n",
    "        layers (list): List of integers, specifying the number of neurons in each layer\n",
    "        learning_rate (float): Learning rate for updating weights andbiases\n",
    "        num_iterations  (int): Number of iterations for training\n",
    "\n",
    "    Returns:\n",
    "        tuple: A tuple of two lists, representing the learned weights and biases for each layer.\n",
    "    \"\"\"\n",
    "    assert X.shape[0] == y.shape[0], \"Number of samples in input and target data must be the same.\"\n",
    "\n",
    "    # Initialize the weights and biases\n",
    "    weights = [np.random.normal(0, 1, (X.shape[1], layers[0]))]\n",
    "    biases = [np.zeros((1, layers[0]))]\n",
    "    for i in range(1, len(layers)):\n",
    "        weights.append(np.random.normal(0, 1, (layers[i-1], layers[i])))\n",
    "        biases.append(np.zeros((1, layers[i])))\n",
    "\n",
    "    # Backpropagation iterations\n",
    "    for i in range(1, num_iterations + 1):\n",
    "        a, z = forward_propagation(X, weights, biases, layers)\n",
    "\n",
    "        # Compute the cost function\n",
    "        error = a[-1] - y\n",
    "        cost = np.mean(np.square(error))\n",
    "\n",
    "        if i % 100 == 0:\n",
    "            print(\"Iteration: {}, Cost: {}\".format(i, cost))\n",
    "\n",
    "        # Backward propagation\n",
    "        delta = [error * sigmoid_derivative(z[-1])]\n",
    "        for j in range(len(layers)-1, 0, -1):\n",
    "            delta.append(np.dot(delta[-1], weights[j].T) * sigmoid_derivative(z[j-1]))\n",
    "\n",
    "        delta.reverse()\n",
    "\n",
    "        # Update the weights and biases\n",
    "        for j in range(len(layers)):\n",
    "            weights[j] -= learning_rate * np.dot(a[j].T, delta[j])\n",
    "            biases[j] -= learning_rate * np.mean(delta[j], axis=0)\n",
    "\n",
    "\n",
    "    return (weights, biases)\n"
   ]
  },
  {
   "cell_type": "code",
   "execution_count": 170,
   "id": "c826fc29",
   "metadata": {},
   "outputs": [
    {
     "name": "stderr",
     "output_type": "stream",
     "text": [
      "Using the latest cached version of the module from C:\\Users\\ayale\\.cache\\huggingface\\modules\\datasets_modules\\datasets\\imdb\\d613c88cf8fa3bab83b4ded3713f1f74830d1100e171db75bbddb80b3345c9c0 (last modified on Thu Apr 20 23:14:26 2023) since it couldn't be found locally at imdb., or remotely on the Hugging Face Hub.\n",
      "Found cached dataset imdb (C:/Users/ayale/.cache/huggingface/datasets/imdb/plain_text/1.0.0/d613c88cf8fa3bab83b4ded3713f1f74830d1100e171db75bbddb80b3345c9c0)\n"
     ]
    },
    {
     "name": "stdout",
     "output_type": "stream",
     "text": [
      "X shape: (12500,)\n",
      "y shape: (12500, 1)\n"
     ]
    }
   ],
   "source": [
    "# Load a percentage split of the imdb dataset\n",
    "dataset = load_dataset(\"imdb\", split=\"train[:50%]\")\n",
    "\n",
    "# Load the pre-trained SentenceTransformer model\n",
    "model = SentenceTransformer('all-MiniLM-L6-v2')\n",
    "\n",
    "# Encode the text in the dataset using the pre-trained model\n",
    "X = np.array(dataset[\"text\"])\n",
    "y = np.array(dataset[\"label\"])\n",
    "\n",
    "y = y.reshape(-1, 1)\n",
    "\n",
    "# Print the shapes of the encoded input data and target data\n",
    "print(\"X shape:\", X.shape)\n",
    "print(\"y shape:\", y.shape)"
   ]
  },
  {
   "cell_type": "code",
   "execution_count": 132,
   "id": "00ae9b31",
   "metadata": {},
   "outputs": [],
   "source": [
    "epochs = 3\n",
    "layers = [10, 10, 1]\n",
    "iterations = 1000\n",
    "lr = 0.01"
   ]
  },
  {
   "cell_type": "code",
   "execution_count": 133,
   "id": "dbb799f0",
   "metadata": {},
   "outputs": [
    {
     "name": "stdout",
     "output_type": "stream",
     "text": [
      "Beginning epoch 1\n",
      "Iteration: 100, Cost: 0.00011932187330181078\n",
      "Iteration: 200, Cost: 5.9410640348254804e-05\n",
      "Iteration: 300, Cost: 3.9517343051829024e-05\n",
      "Iteration: 400, Cost: 2.9593978688064804e-05\n",
      "Iteration: 500, Cost: 2.3649929734016053e-05\n",
      "Iteration: 600, Cost: 1.96923344166693e-05\n",
      "Iteration: 700, Cost: 1.6868405907751267e-05\n",
      "Iteration: 800, Cost: 1.4752273401714378e-05\n",
      "Iteration: 900, Cost: 1.3107584792194719e-05\n",
      "Iteration: 1000, Cost: 1.1792653616781468e-05\n",
      "Beginning epoch 2\n",
      "Iteration: 100, Cost: 3.396153266828658e-07\n",
      "Iteration: 200, Cost: 3.387013241676641e-07\n",
      "Iteration: 300, Cost: 3.3779234249662493e-07\n",
      "Iteration: 400, Cost: 3.3688834011890093e-07\n",
      "Iteration: 500, Cost: 3.359892759424322e-07\n",
      "Iteration: 600, Cost: 3.350951093275984e-07\n",
      "Iteration: 700, Cost: 3.342058000810254e-07\n",
      "Iteration: 800, Cost: 3.333213084494373e-07\n",
      "Iteration: 900, Cost: 3.3244159511365286e-07\n",
      "Iteration: 1000, Cost: 3.315666211826612e-07\n",
      "Beginning epoch 3\n",
      "Iteration: 100, Cost: 0.000219043329618154\n",
      "Iteration: 200, Cost: 0.00011723046922022657\n",
      "Iteration: 300, Cost: 8.07920193763331e-05\n",
      "Iteration: 400, Cost: 6.192873037667103e-05\n",
      "Iteration: 500, Cost: 5.0352070279452154e-05\n",
      "Iteration: 600, Cost: 4.2504794397286774e-05\n",
      "Iteration: 700, Cost: 3.682548365001353e-05\n",
      "Iteration: 800, Cost: 3.251957683302683e-05\n",
      "Iteration: 900, Cost: 2.9139501628029164e-05\n",
      "Iteration: 1000, Cost: 2.6413644893081606e-05\n"
     ]
    }
   ],
   "source": [
    "for epoch in range(1, epochs + 1):\n",
    "    print(\"Beginning epoch {}\".format(epoch))\n",
    "    w, b = backpropagation(X, y, layers, lr, iterations)"
   ]
  },
  {
   "cell_type": "code",
   "execution_count": 137,
   "id": "1232ae12",
   "metadata": {},
   "outputs": [
    {
     "name": "stdout",
     "output_type": "stream",
     "text": [
      "[0.00579483]\n"
     ]
    }
   ],
   "source": [
    "a, z = forward_propagation(model.encode(\"probably the worst ever movie i've seen\"), w, b, layers)\n",
    "print(a[-1][0])"
   ]
  },
  {
   "cell_type": "code",
   "execution_count": 172,
   "id": "e48499fd",
   "metadata": {},
   "outputs": [
    {
     "name": "stdout",
     "output_type": "stream",
     "text": [
      "SentimentNet(\n",
      "  (embedding): SentenceTransformerModule(\n",
      "    (model): SentenceTransformer(\n",
      "      (0): Transformer({'max_seq_length': 256, 'do_lower_case': False}) with Transformer model: BertModel \n",
      "      (1): Pooling({'word_embedding_dimension': 384, 'pooling_mode_cls_token': False, 'pooling_mode_mean_tokens': True, 'pooling_mode_max_tokens': False, 'pooling_mode_mean_sqrt_len_tokens': False})\n",
      "      (2): Normalize()\n",
      "    )\n",
      "  )\n",
      "  (fc1): Linear(in_features=384, out_features=64, bias=True)\n",
      "  (fc2): Linear(in_features=64, out_features=1, bias=True)\n",
      ")\n"
     ]
    }
   ],
   "source": [
    "import torch\n",
    "import torch.nn as nn\n",
    "\n",
    "# Define the hyperparameters\n",
    "embedding_size = 384  # Size of the word embeddings\n",
    "hidden_size = 64  # Size of the hidden layer\n",
    "output_size = 1  # Size of the output layer (binary classification)\n",
    "learning_rate = 0.001  # Learning rate for the optimizer\n",
    "batch_size = 32  # Number of samples in each batch\n",
    "num_epochs = 10  # Number of epochs for training\n",
    "\n",
    "# Define the neural network architecture\n",
    "\n",
    "class SentenceTransformerModule(nn.Module):\n",
    "    def __init__(self, model_name):\n",
    "        super().__init__()\n",
    "        self.model = SentenceTransformer(model_name)\n",
    "    \n",
    "    def forward(self, sentences):\n",
    "        embeddings = self.model.encode(sentences)\n",
    "        return torch.from_numpy(embeddings).float()\n",
    "\n",
    "\n",
    "embeddings_model = SentenceTransformerModule('all-MiniLM-L6-v2')\n",
    "\n",
    "class SentimentNet(nn.Module):\n",
    "    def __init__(self, embedding_size, hidden_size, output_size):\n",
    "        super(SentimentNet, self).__init__()\n",
    "        self.embedding = embeddings_model\n",
    "        self.fc1 = nn.Linear(embedding_size, hidden_size)\n",
    "        self.fc2 = nn.Linear(hidden_size, output_size)\n",
    "\n",
    "    def forward(self, x):\n",
    "        x = self.embedding(x)\n",
    "        x = nn.functional.relu(self.fc1(x))\n",
    "        x = nn.functional.sigmoid(self.fc2(x))\n",
    "        return x\n",
    "\n",
    "\n",
    "# Create an instance of the neural network\n",
    "model = SentimentNet(embedding_size, hidden_size, output_size)\n",
    "\n",
    "# Define the loss function and optimizer\n",
    "criterion = nn.BCELoss()\n",
    "optimizer = torch.optim.Adam(model.parameters(), lr=learning_rate)\n",
    "\n",
    "# Print the model summary\n",
    "print(model)\n",
    "\n",
    "# Convert the input data and target data to PyTorch tensors\n",
    "X_train = X\n",
    "y_train = torch.tensor(y).float()\n"
   ]
  },
  {
   "cell_type": "code",
   "execution_count": 173,
   "id": "5eb89c98",
   "metadata": {},
   "outputs": [
    {
     "name": "stdout",
     "output_type": "stream",
     "text": [
      "Epoch [1/10], Loss: 0.0018, Accuracy: 100.00%\n",
      "Epoch [2/10], Loss: 0.0004, Accuracy: 100.00%\n",
      "Epoch [3/10], Loss: 0.0002, Accuracy: 100.00%\n",
      "Epoch [4/10], Loss: 0.0001, Accuracy: 100.00%\n",
      "Epoch [5/10], Loss: 0.0001, Accuracy: 100.00%\n",
      "Epoch [6/10], Loss: 0.0000, Accuracy: 100.00%\n",
      "Epoch [7/10], Loss: 0.0000, Accuracy: 100.00%\n",
      "Epoch [8/10], Loss: 0.0000, Accuracy: 100.00%\n",
      "Epoch [9/10], Loss: 0.0000, Accuracy: 100.00%\n",
      "Epoch [10/10], Loss: 0.0000, Accuracy: 100.00%\n"
     ]
    }
   ],
   "source": [
    "# Train the neural network\n",
    "for epoch in range(num_epochs):\n",
    "    for i in range(0, len(X_train), batch_size):\n",
    "        # Forward pass\n",
    "        inputs = X_train[i:i+batch_size]\n",
    "        targets = y_train[i:i+batch_size]\n",
    "        outputs = model(inputs)\n",
    "\n",
    "        # Compute the loss\n",
    "        loss = criterion(outputs, targets)\n",
    "\n",
    "        # Backward pass and optimization\n",
    "        optimizer.zero_grad()\n",
    "        loss.backward()\n",
    "        optimizer.step()\n",
    "\n",
    "    # Compute the accuracy on the training set\n",
    "    predictions = (outputs > 0.5).float()\n",
    "    accuracy = torch.mean((predictions == targets).float())\n",
    "\n",
    "    # Print the loss and accuracy for each epoch\n",
    "    print('Epoch [{}/{}], Loss: {:.4f}, Accuracy: {:.2f}%'\n",
    "          .format(epoch+1, num_epochs, loss.item(), accuracy*100))\n"
   ]
  },
  {
   "cell_type": "code",
   "execution_count": 177,
   "id": "7b3ddebe",
   "metadata": {},
   "outputs": [
    {
     "data": {
      "text/plain": [
       "tensor([1.4968e-05], grad_fn=<SigmoidBackward0>)"
      ]
     },
     "execution_count": 177,
     "metadata": {},
     "output_type": "execute_result"
    }
   ],
   "source": [
    "model(\"best movie i've ever seen. tom croose's acting was amazing!\")"
   ]
  }
 ],
 "metadata": {
  "kernelspec": {
   "display_name": "pytorch_cuda",
   "language": "python",
   "name": "python3"
  },
  "language_info": {
   "codemirror_mode": {
    "name": "ipython",
    "version": 3
   },
   "file_extension": ".py",
   "mimetype": "text/x-python",
   "name": "python",
   "nbconvert_exporter": "python",
   "pygments_lexer": "ipython3",
   "version": "3.10.10"
  }
 },
 "nbformat": 4,
 "nbformat_minor": 5
}
